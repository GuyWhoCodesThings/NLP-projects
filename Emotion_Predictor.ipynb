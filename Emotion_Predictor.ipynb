{
  "cells": [
    {
      "cell_type": "markdown",
      "metadata": {
        "id": "view-in-github",
        "colab_type": "text"
      },
      "source": [
        "<a href=\"https://colab.research.google.com/github/GuyWhoCodesThings/NLP-projects/blob/main/Emotion_Predictor.ipynb\" target=\"_parent\"><img src=\"https://colab.research.google.com/assets/colab-badge.svg\" alt=\"Open In Colab\"/></a>"
      ]
    },
    {
      "cell_type": "code",
      "execution_count": 41,
      "metadata": {
        "id": "0jbReeKXxSb2"
      },
      "outputs": [],
      "source": [
        "import numpy as np\n",
        "import pandas as pd\n",
        "import tensorflow as tf\n",
        "import os\n",
        "from matplotlib import pyplot as plt\n",
        "from keras.preprocessing.text import Tokenizer\n",
        "from keras.preprocessing.sequence import pad_sequences\n",
        "from sklearn import preprocessing\n",
        "from keras.utils.np_utils import to_categorical  \n",
        "from tensorflow.keras import layers\n",
        "from tensorflow.keras import losses\n",
        "from sklearn import preprocessing"
      ]
    },
    {
      "cell_type": "markdown",
      "metadata": {
        "id": "cXeK_p6Ixkw9"
      },
      "source": [
        "https://www.kaggle.com/datasets/praveengovi/emotions-dataset-for-nlp?select=val.txt"
      ]
    },
    {
      "cell_type": "code",
      "execution_count": 173,
      "metadata": {
        "id": "M_pk-DckK28k"
      },
      "outputs": [],
      "source": [
        "BATCH_SIZE = 64\n",
        "BUFFER_SIZE = 1000"
      ]
    },
    {
      "cell_type": "code",
      "execution_count": 3,
      "metadata": {
        "id": "dKEtvPuYn4Ja"
      },
      "outputs": [],
      "source": [
        "with open('/content/drive/MyDrive/KaggleDatasets/train.txt') as f:\n",
        "    contents = f.readlines()"
      ]
    },
    {
      "cell_type": "code",
      "execution_count": 4,
      "metadata": {
        "id": "PdN6FrdkDqiM"
      },
      "outputs": [],
      "source": [
        "split_txt = []\n",
        "for i in range (len(contents)):\n",
        "  split_txt.append(contents[i].split(';'))"
      ]
    },
    {
      "cell_type": "code",
      "execution_count": 5,
      "metadata": {
        "id": "rNQBJ70hE8F6"
      },
      "outputs": [],
      "source": [
        "sentences = []\n",
        "emotions = []\n",
        "for i in range (len(contents)):\n",
        "  sentences.append(split_txt[i][0])\n",
        "  emotions.append(split_txt[i][1])"
      ]
    },
    {
      "cell_type": "code",
      "execution_count": 6,
      "metadata": {
        "id": "gCIIeXYeOuSu",
        "colab": {
          "base_uri": "https://localhost:8080/"
        },
        "outputId": "b39e939b-0bf6-4bc8-974b-034ef87bcd69"
      },
      "outputs": [
        {
          "output_type": "stream",
          "name": "stdout",
          "text": [
            "['anger\\n' 'fear\\n' 'joy\\n' 'love\\n' 'sadness\\n' 'surprise\\n']\n"
          ]
        }
      ],
      "source": [
        "labels = np.array(emotions)\n",
        "labels = labels.astype('str')\n",
        "unique_labels = np.unique(labels)\n",
        "print(unique_labels)"
      ]
    },
    {
      "cell_type": "code",
      "execution_count": 7,
      "metadata": {
        "id": "fBrryzKTu9WM"
      },
      "outputs": [],
      "source": [
        "label_dict = {\n",
        "    'anger\\n':0,\n",
        "    'fear\\n':1,\n",
        "    'joy\\n':2,\n",
        "    'love\\n':3,\n",
        "    'sadness\\n':4,\n",
        "    'surprise\\n':5\n",
        "}"
      ]
    },
    {
      "cell_type": "code",
      "execution_count": 8,
      "metadata": {
        "id": "WzZfT1sIvaMl"
      },
      "outputs": [],
      "source": [
        "#get labels from string to int\n",
        "int_labels = []\n",
        "for i in range(len(labels)):\n",
        "  int_labels.append(label_dict[labels[i]])"
      ]
    },
    {
      "cell_type": "code",
      "source": [
        "fig = plt.figure()\n",
        "ax = fig.add_axes([0,0,1,1])\n",
        "names = ['anger', 'fear', 'joy', 'love', 'sadness', 'suprise']\n",
        "anger = int_labels.count(0)\n",
        "fear = int_labels.count(1)\n",
        "joy = int_labels.count(2)\n",
        "love = int_labels.count(3)\n",
        "sadness = int_labels.count(4)\n",
        "suprise = int_labels.count(5)\n",
        "amount = [anger, fear, joy, love, sadness, suprise]\n",
        "ax.bar(names,amount)\n",
        "plt.show()"
      ],
      "metadata": {
        "colab": {
          "base_uri": "https://localhost:8080/",
          "height": 336
        },
        "id": "acXOr1jK9Xqg",
        "outputId": "5b6f6d95-587d-4874-e3e4-8a71f54d572d"
      },
      "execution_count": 161,
      "outputs": [
        {
          "output_type": "display_data",
          "data": {
            "text/plain": [
              "<Figure size 432x288 with 1 Axes>"
            ],
            "image/png": "[encoded data removed]"
          },
          "metadata": {
            "needs_background": "light"
          }
        }
      ]
    },
    {
      "cell_type": "code",
      "execution_count": 9,
      "metadata": {
        "id": "Hi8mxSF0PASD"
      },
      "outputs": [],
      "source": [
        "catagorical_labels = np.array(to_categorical(int_labels, num_classes = (len(unique_labels))))\n",
        "sentences=np.array(sentences)"
      ]
    },
    {
      "cell_type": "code",
      "execution_count": 10,
      "metadata": {
        "id": "_-oCfP1p1JYE"
      },
      "outputs": [],
      "source": [
        "def split_data(input, train_split=0.8, val_split=0.1):\n",
        "  length = len(input)\n",
        "  train = input[:int(length*train_split)]\n",
        "  val = input[int(length*train_split):int(length*val_split + length*train_split)]\n",
        "  test = input[int(length*val_split + length*train_split):]\n",
        "  return train, val, test\n"
      ]
    },
    {
      "cell_type": "code",
      "execution_count": 11,
      "metadata": {
        "id": "k_eoKNfoOkHm",
        "colab": {
          "base_uri": "https://localhost:8080/"
        },
        "outputId": "b0e1461e-f2d4-420b-db0a-219b5b10cda8"
      },
      "outputs": [
        {
          "output_type": "execute_result",
          "data": {
            "text/plain": [
              "16000"
            ]
          },
          "metadata": {},
          "execution_count": 11
        }
      ],
      "source": [
        "len(sentences)"
      ]
    },
    {
      "cell_type": "code",
      "execution_count": 12,
      "metadata": {
        "id": "2Ejwmg8bOYQT"
      },
      "outputs": [],
      "source": [
        "x_train, x_val, x_test = split_data(sentences, train_split=0.9, val_split=0.05)\n",
        "y_train, y_val, y_test = split_data(catagorical_labels, train_split=0.9, val_split=0.05)"
      ]
    },
    {
      "cell_type": "code",
      "execution_count": 13,
      "metadata": {
        "id": "XdYCW_9zTTf2"
      },
      "outputs": [],
      "source": [
        "tokenizer = Tokenizer(num_words=500, oov_token = \"<00V>\")\n",
        "tokenizer.fit_on_texts(x_train)\n",
        "word_index = tokenizer.word_index\n",
        "\n",
        "training_sequences = tokenizer.texts_to_sequences(x_train)\n",
        "training_padded = pad_sequences(training_sequences, padding='post')\n",
        "val_sequences = tokenizer.texts_to_sequences(x_val)\n",
        "val_padded = pad_sequences(val_sequences, padding='post', maxlen=training_padded.shape[-1])\n",
        "test_sequences = tokenizer.texts_to_sequences(x_test)\n",
        "test_padded = pad_sequences(test_sequences, padding='post', maxlen=training_padded.shape[-1])"
      ]
    },
    {
      "cell_type": "code",
      "execution_count": 14,
      "metadata": {
        "id": "wUDBDY-hTeKY",
        "colab": {
          "base_uri": "https://localhost:8080/"
        },
        "outputId": "47878384-d15e-4e18-ed52-2d27f3d0d9e1"
      },
      "outputs": [
        {
          "output_type": "stream",
          "name": "stdout",
          "text": [
            "(14400, 66)\n",
            "(800, 66)\n",
            "(800, 66)\n"
          ]
        }
      ],
      "source": [
        "print(training_padded.shape)\n",
        "print(val_padded.shape)\n",
        "print(test_padded.shape)"
      ]
    },
    {
      "cell_type": "code",
      "execution_count": 15,
      "metadata": {
        "id": "oY0gJvULOIRZ",
        "colab": {
          "base_uri": "https://localhost:8080/"
        },
        "outputId": "1a3c4199-5807-4d50-edcf-7601edf1fd70"
      },
      "outputs": [
        {
          "output_type": "stream",
          "name": "stdout",
          "text": [
            "[  2 134   3   1   0   0   0   0   0   0   0   0   0   0   0   0   0   0\n",
            "   0   0   0   0   0   0   0   0   0   0   0   0   0   0   0   0   0   0\n",
            "   0   0   0   0   0   0   0   0   0   0   0   0   0   0   0   0   0   0\n",
            "   0   0   0   0   0   0   0   0   0   0   0   0]\n"
          ]
        }
      ],
      "source": [
        "print(training_padded[0])"
      ]
    },
    {
      "cell_type": "code",
      "execution_count": 16,
      "metadata": {
        "id": "P4RddLnJ_KAa",
        "colab": {
          "base_uri": "https://localhost:8080/"
        },
        "outputId": "74184b5a-e38c-4204-8645-9c39cddacf2f"
      },
      "outputs": [
        {
          "output_type": "execute_result",
          "data": {
            "text/plain": [
              "(14400, 6)"
            ]
          },
          "metadata": {},
          "execution_count": 16
        }
      ],
      "source": [
        "y_train.shape"
      ]
    },
    {
      "cell_type": "code",
      "execution_count": 17,
      "metadata": {
        "id": "qv0dtqNKNc4Z",
        "colab": {
          "base_uri": "https://localhost:8080/"
        },
        "outputId": "b900440e-8121-4ce3-96a8-58b11dac4fea"
      },
      "outputs": [
        {
          "output_type": "stream",
          "name": "stdout",
          "text": [
            "num of vocab words in training are:  14422\n"
          ]
        }
      ],
      "source": [
        "print(\"num of vocab words in training are: \", len(word_index))"
      ]
    },
    {
      "cell_type": "code",
      "execution_count": 18,
      "metadata": {
        "id": "Og9GvPjVYZaJ",
        "colab": {
          "base_uri": "https://localhost:8080/"
        },
        "outputId": "ef9f5c99-c348-4a4d-c7ab-697861440ecf"
      },
      "outputs": [
        {
          "output_type": "stream",
          "name": "stdout",
          "text": [
            "x shape:  (14400, 66)\n",
            "y shape:  (14400, 6)\n"
          ]
        }
      ],
      "source": [
        "print('x shape: ', training_padded.shape)\n",
        "print('y shape: ', y_train.shape)"
      ]
    },
    {
      "cell_type": "code",
      "execution_count": 19,
      "metadata": {
        "id": "Q9ugHqNLNujZ"
      },
      "outputs": [],
      "source": [
        "train_ds = tf.data.Dataset.from_tensor_slices((training_padded, y_train))\n",
        "val_ds = tf.data.Dataset.from_tensor_slices((val_padded, y_val))\n",
        "test_ds = tf.data.Dataset.from_tensor_slices((test_padded, y_test))"
      ]
    },
    {
      "cell_type": "code",
      "execution_count": 20,
      "metadata": {
        "id": "g0vZylxYNuCX"
      },
      "outputs": [],
      "source": [
        "AUTOTUNE = tf.data.AUTOTUNE\n",
        "\n",
        "train_ds = train_ds.shuffle(BUFFER_SIZE).batch(BATCH_SIZE).prefetch(tf.data.AUTOTUNE)\n",
        "val_ds = test_ds.batch(BATCH_SIZE).prefetch(tf.data.AUTOTUNE)\n",
        "test_ds = test_ds.batch(BATCH_SIZE).prefetch(tf.data.AUTOTUNE)"
      ]
    },
    {
      "cell_type": "code",
      "execution_count": 155,
      "metadata": {
        "id": "YASgqkoCHWsE"
      },
      "outputs": [],
      "source": [
        "vocab_size = len(word_index)\n",
        "embed_dim = 16\n",
        "max_length = training_padded.shape[-1]\n",
        "model = tf.keras.Sequential([\n",
        "    tf.keras.layers.Embedding(vocab_size, embed_dim, input_length=max_length),\n",
        "    tf.keras.layers.Dropout(0.25),\n",
        "    tf.keras.layers.Conv1D(128, 5, padding='valid', activation='relu', strides=1),\n",
        "    tf.keras.layers.MaxPooling1D(4),\n",
        "    tf.keras.layers.Bidirectional(tf.keras.layers.LSTM(72)),\n",
        "    tf.keras.layers.Flatten(),\n",
        "    tf.keras.layers.Dense(32, activation='relu'),\n",
        "    tf.keras.layers.Dense(6, activation='linear')\n",
        "])"
      ]
    },
    {
      "cell_type": "code",
      "execution_count": 156,
      "metadata": {
        "id": "V6aQ_25oHXzk"
      },
      "outputs": [],
      "source": [
        "model.compile(optimizer='adam',\n",
        "              loss=tf.keras.losses.CategoricalCrossentropy(from_logits=True),\n",
        "              metrics=['accuracy'])"
      ]
    },
    {
      "cell_type": "code",
      "execution_count": 157,
      "metadata": {
        "id": "uWuCL9eTNRrh",
        "colab": {
          "base_uri": "https://localhost:8080/"
        },
        "outputId": "cde04b7a-f267-42e9-c860-db2ebe216659"
      },
      "outputs": [
        {
          "output_type": "stream",
          "name": "stdout",
          "text": [
            "Model: \"sequential_6\"\n",
            "_________________________________________________________________\n",
            " Layer (type)                Output Shape              Param #   \n",
            "=================================================================\n",
            " embedding_6 (Embedding)     (None, 66, 16)            230752    \n",
            "                                                                 \n",
            " dropout_6 (Dropout)         (None, 66, 16)            0         \n",
            "                                                                 \n",
            " conv1d_9 (Conv1D)           (None, 62, 128)           10368     \n",
            "                                                                 \n",
            " max_pooling1d_9 (MaxPooling  (None, 15, 128)          0         \n",
            " 1D)                                                             \n",
            "                                                                 \n",
            " bidirectional_6 (Bidirectio  (None, 144)              115776    \n",
            " nal)                                                            \n",
            "                                                                 \n",
            " flatten_6 (Flatten)         (None, 144)               0         \n",
            "                                                                 \n",
            " dense_12 (Dense)            (None, 32)                4640      \n",
            "                                                                 \n",
            " dense_13 (Dense)            (None, 6)                 198       \n",
            "                                                                 \n",
            "=================================================================\n",
            "Total params: 361,734\n",
            "Trainable params: 361,734\n",
            "Non-trainable params: 0\n",
            "_________________________________________________________________\n"
          ]
        }
      ],
      "source": [
        "model.summary()"
      ]
    },
    {
      "cell_type": "code",
      "execution_count": 158,
      "metadata": {
        "id": "vKbl8jrgOWvU"
      },
      "outputs": [],
      "source": [
        "callbacks = [\n",
        "    tf.keras.callbacks.ReduceLROnPlateau(monitor='loss', patience=2, verbose=1),\n",
        "    tf.keras.callbacks.EarlyStopping(monitor='loss', patience=5, verbose=1),\n",
        "]"
      ]
    },
    {
      "cell_type": "code",
      "execution_count": 159,
      "metadata": {
        "id": "so7BFV0yNSsK",
        "colab": {
          "base_uri": "https://localhost:8080/"
        },
        "outputId": "1e074daa-6daf-4431-f28f-58f1a13854f5"
      },
      "outputs": [
        {
          "output_type": "stream",
          "name": "stdout",
          "text": [
            "Epoch 1/8\n",
            "225/225 [==============================] - 11s 35ms/step - loss: 1.5804 - accuracy: 0.3382 - val_loss: 1.5643 - val_accuracy: 0.3738 - lr: 0.0010\n",
            "Epoch 2/8\n",
            "225/225 [==============================] - 7s 31ms/step - loss: 1.3750 - accuracy: 0.4618 - val_loss: 1.2570 - val_accuracy: 0.5075 - lr: 0.0010\n",
            "Epoch 3/8\n",
            "225/225 [==============================] - 7s 31ms/step - loss: 1.1966 - accuracy: 0.5226 - val_loss: 1.1685 - val_accuracy: 0.5275 - lr: 0.0010\n",
            "Epoch 4/8\n",
            "225/225 [==============================] - 7s 31ms/step - loss: 1.1253 - accuracy: 0.5631 - val_loss: 1.1240 - val_accuracy: 0.5675 - lr: 0.0010\n",
            "Epoch 5/8\n",
            "225/225 [==============================] - 7s 30ms/step - loss: 1.0943 - accuracy: 0.5713 - val_loss: 1.1036 - val_accuracy: 0.5525 - lr: 0.0010\n",
            "Epoch 6/8\n",
            "225/225 [==============================] - 7s 31ms/step - loss: 1.0710 - accuracy: 0.5847 - val_loss: 1.0955 - val_accuracy: 0.5625 - lr: 0.0010\n",
            "Epoch 7/8\n",
            "225/225 [==============================] - 10s 42ms/step - loss: 1.0505 - accuracy: 0.5936 - val_loss: 1.0891 - val_accuracy: 0.5525 - lr: 0.0010\n",
            "Epoch 8/8\n",
            "225/225 [==============================] - 7s 33ms/step - loss: 1.0350 - accuracy: 0.5969 - val_loss: 1.0842 - val_accuracy: 0.5675 - lr: 0.0010\n"
          ]
        }
      ],
      "source": [
        "epochs=8\n",
        "history = model.fit(\n",
        "  train_ds,\n",
        "  epochs=epochs,\n",
        "  validation_data=val_ds,\n",
        "  callbacks=callbacks\n",
        ")"
      ]
    },
    {
      "cell_type": "code",
      "source": [
        "plt.plot(history.history['accuracy'])\n",
        "plt.plot(history.history['val_accuracy'])\n",
        "plt.title('model accuracy')\n",
        "plt.ylabel('accuracy')\n",
        "plt.xlabel('epoch')\n",
        "plt.legend(['train', 'val'], loc='upper left')\n",
        "plt.show()"
      ],
      "metadata": {
        "colab": {
          "base_uri": "https://localhost:8080/",
          "height": 295
        },
        "id": "uav4p1qmNv1s",
        "outputId": "ace9c1b6-edcb-4b76-999f-4312c2bdfa9f"
      },
      "execution_count": 162,
      "outputs": [
        {
          "output_type": "display_data",
          "data": {
            "text/plain": [
              "<Figure size 432x288 with 1 Axes>"
            ],
            "image/png": "[encoded data removed]"
          },
          "metadata": {
            "needs_background": "light"
          }
        }
      ]
    },
    {
      "cell_type": "code",
      "source": [
        "plt.plot(history.history['loss'])\n",
        "plt.plot(history.history['val_loss'])\n",
        "plt.title('model loss')\n",
        "plt.ylabel('loss')\n",
        "plt.xlabel('epoch')\n",
        "plt.legend(['train', 'val'], loc='upper left')\n",
        "plt.show()"
      ],
      "metadata": {
        "colab": {
          "base_uri": "https://localhost:8080/",
          "height": 295
        },
        "id": "27HW33UEN_zE",
        "outputId": "f55059dd-e469-4fa1-dae1-f2c0d1486a51"
      },
      "execution_count": 163,
      "outputs": [
        {
          "output_type": "display_data",
          "data": {
            "text/plain": [
              "<Figure size 432x288 with 1 Axes>"
            ],
            "image/png": "[encoded data removed]"
          },
          "metadata": {
            "needs_background": "light"
          }
        }
      ]
    },
    {
      "cell_type": "code",
      "execution_count": 164,
      "metadata": {
        "id": "pSMtRgYLk-jS",
        "colab": {
          "base_uri": "https://localhost:8080/"
        },
        "outputId": "a402df68-b70a-4e7b-9012-219a8e09884f"
      },
      "outputs": [
        {
          "output_type": "stream",
          "name": "stdout",
          "text": [
            "25/25 [==============================] - 1s 6ms/step - loss: 1.0842 - accuracy: 0.5675\n"
          ]
        },
        {
          "output_type": "execute_result",
          "data": {
            "text/plain": [
              "[1.0842065811157227, 0.5674999952316284]"
            ]
          },
          "metadata": {},
          "execution_count": 164
        }
      ],
      "source": [
        "model.evaluate(test_padded, y_test)"
      ]
    },
    {
      "cell_type": "code",
      "execution_count": 165,
      "metadata": {
        "id": "O96a1eEjz1KM"
      },
      "outputs": [],
      "source": [
        "def words_to_nums(input):\n",
        "  training_sequences = tokenizer.texts_to_sequences(input)\n",
        "  return pad_sequences(training_sequences, padding='post', maxlen=training_padded.shape[-1])"
      ]
    },
    {
      "cell_type": "code",
      "source": [
        "num_to_labels = {\n",
        "    0:'anger',\n",
        "    1:'fear',\n",
        "    2:'joy',\n",
        "    3:'love',\n",
        "    4:'sadness',\n",
        "    5:'surprise'\n",
        "}"
      ],
      "metadata": {
        "id": "g6criIwXZq0T"
      },
      "execution_count": 166,
      "outputs": []
    },
    {
      "cell_type": "code",
      "source": [
        "def get_prediction(text):\n",
        "    text = tokenizer.texts_to_sequences([text])\n",
        "    text = pad_sequences(text, padding='post', maxlen=training_padded.shape[-1])\n",
        "    predict = model.predict(text)\n",
        "    results = np.argmax(predict, axis=1)\n",
        "    return num_to_labels[results[0]]"
      ],
      "metadata": {
        "id": "k9CzZSUgvKgn"
      },
      "execution_count": 167,
      "outputs": []
    },
    {
      "cell_type": "code",
      "execution_count": 168,
      "metadata": {
        "id": "I16nUhHirqne"
      },
      "outputs": [],
      "source": [
        "def play_game():\n",
        "  print(\"enter 'stop' to end the session\")\n",
        "  user_input = 'start'\n",
        "  while user_input!='stop':\n",
        "    user_input = input('enter a sentence for the computer to guess the emotion [anger, fear, joy, love, sadness, surprise]:\\n')\n",
        "    if user_input!='stop':\n",
        "      my_prediction = get_prediction(user_input)\n",
        "      print('computer\\'s guess is: ', my_prediction)\n",
        "\n",
        "\n"
      ]
    },
    {
      "cell_type": "code",
      "source": [
        "play_game()"
      ],
      "metadata": {
        "colab": {
          "base_uri": "https://localhost:8080/"
        },
        "id": "ZsQPDRcR-j8B",
        "outputId": "a76acd7c-d110-4939-fac6-6127f349843a"
      },
      "execution_count": 172,
      "outputs": [
        {
          "name": "stdout",
          "output_type": "stream",
          "text": [
            "enter 'stop' to end the session\n",
            "enter a sentence for the computer to guess the emotion [anger, fear, joy, love, sadness, surprise]:\n",
            "stop\n"
          ]
        }
      ]
    },
    {
      "cell_type": "code",
      "source": [],
      "metadata": {
        "id": "7h1sly_s-kjH"
      },
      "execution_count": null,
      "outputs": []
    }
  ],
  "metadata": {
    "colab": {
      "collapsed_sections": [],
      "provenance": [],
      "mount_file_id": "1HZm-hDnZsp87lB58-IekhBFRIjPouvVE",
      "authorship_tag": "ABX9TyMwTp1DRdOzEgMWmspgdDX6",
      "include_colab_link": true
    },
    "kernelspec": {
      "display_name": "Python 3",
      "name": "python3"
    },
    "language_info": {
      "name": "python"
    }
  },
  "nbformat": 4,
  "nbformat_minor": 0
}