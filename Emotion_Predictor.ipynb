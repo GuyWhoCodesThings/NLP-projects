{
  "cells": [
    {
      "cell_type": "markdown",
      "metadata": {
        "id": "view-in-github",
        "colab_type": "text"
      },
      "source": [
        "<a href=\"https://colab.research.google.com/github/GuyWhoCodesThings/NLP-projects/blob/main/Emotion_Predictor.ipynb\" target=\"_parent\"><img src=\"https://colab.research.google.com/assets/colab-badge.svg\" alt=\"Open In Colab\"/></a>"
      ]
    },
    {
      "cell_type": "code",
      "execution_count": 493,
      "metadata": {
        "id": "0jbReeKXxSb2"
      },
      "outputs": [],
      "source": [
        "import numpy as np\n",
        "import pandas as pd\n",
        "import tensorflow as tf\n",
        "import os\n",
        "from matplotlib import pyplot as plt\n",
        "from keras.preprocessing.text import Tokenizer\n",
        "from keras.preprocessing.sequence import pad_sequences\n",
        "from sklearn import preprocessing\n",
        "from keras.utils.np_utils import to_categorical  \n",
        "from tensorflow.keras import layers\n",
        "from tensorflow.keras import losses\n",
        "from sklearn import preprocessing\n",
        "import random"
      ]
    },
    {
      "cell_type": "markdown",
      "metadata": {
        "id": "cXeK_p6Ixkw9"
      },
      "source": [
        "data from:\n",
        "https://www.kaggle.com/datasets/praveengovi/emotions-dataset-for-nlp?select=val.txt\n",
        "\n",
        "also credit to ashu prasad as the inspiriation for the tokenization, his blog here: https://towardsdatascience.com/natural-language-processing-with-tensorflow-e0a701ef5cef"
      ]
    },
    {
      "cell_type": "code",
      "execution_count": 494,
      "metadata": {
        "id": "M_pk-DckK28k"
      },
      "outputs": [],
      "source": [
        "BATCH_SIZE = 64\n",
        "BUFFER_SIZE = 2000"
      ]
    },
    {
      "cell_type": "code",
      "execution_count": 495,
      "metadata": {
        "id": "dKEtvPuYn4Ja"
      },
      "outputs": [],
      "source": [
        "with open('/content/drive/MyDrive/KaggleDatasets/train.txt') as f:\n",
        "    contents = f.readlines()"
      ]
    },
    {
      "cell_type": "code",
      "execution_count": 496,
      "metadata": {
        "id": "PdN6FrdkDqiM"
      },
      "outputs": [],
      "source": [
        "split_txt = []\n",
        "for i in range (len(contents)):\n",
        "  split_txt.append(contents[i].split(';'))"
      ]
    },
    {
      "cell_type": "code",
      "execution_count": 497,
      "metadata": {
        "id": "rNQBJ70hE8F6"
      },
      "outputs": [],
      "source": [
        "sentences = []\n",
        "emotions = []\n",
        "for i in range (len(contents)):\n",
        "  sentences.append(split_txt[i][0])\n",
        "  emotions.append(split_txt[i][1])"
      ]
    },
    {
      "cell_type": "code",
      "execution_count": 498,
      "metadata": {
        "id": "gCIIeXYeOuSu",
        "colab": {
          "base_uri": "https://localhost:8080/"
        },
        "outputId": "c6e67261-6fcf-49f5-a839-140db38ceae3"
      },
      "outputs": [
        {
          "output_type": "stream",
          "name": "stdout",
          "text": [
            "['anger\\n' 'fear\\n' 'joy\\n' 'love\\n' 'sadness\\n' 'surprise\\n']\n"
          ]
        }
      ],
      "source": [
        "labels = np.array(emotions)\n",
        "labels = labels.astype('str')\n",
        "unique_labels = np.unique(labels)\n",
        "print(unique_labels)"
      ]
    },
    {
      "cell_type": "code",
      "execution_count": 499,
      "metadata": {
        "id": "fBrryzKTu9WM"
      },
      "outputs": [],
      "source": [
        "label_dict = {\n",
        "    'anger\\n':0,\n",
        "    'fear\\n':1,\n",
        "    'joy\\n':2,\n",
        "    'love\\n':3,\n",
        "    'sadness\\n':4,\n",
        "    'surprise\\n':5\n",
        "}"
      ]
    },
    {
      "cell_type": "code",
      "execution_count": 500,
      "metadata": {
        "id": "WzZfT1sIvaMl"
      },
      "outputs": [],
      "source": [
        "#get labels from string to int\n",
        "int_labels = []\n",
        "for i in range(len(labels)):\n",
        "  int_labels.append(label_dict[labels[i]])"
      ]
    },
    {
      "cell_type": "code",
      "source": [
        "fig = plt.figure()\n",
        "ax = fig.add_axes([0,0,1,1])\n",
        "names = ['anger', 'fear', 'joy', 'love', 'sadness', 'suprise']\n",
        "anger = int_labels.count(0)\n",
        "fear = int_labels.count(1)\n",
        "joy = int_labels.count(2)\n",
        "love = int_labels.count(3)\n",
        "sadness = int_labels.count(4)\n",
        "suprise = int_labels.count(5)\n",
        "amount = [anger, fear, joy, love, sadness, suprise]\n",
        "ax.bar(names,amount)\n",
        "plt.show()"
      ],
      "metadata": {
        "colab": {
          "base_uri": "https://localhost:8080/",
          "height": 336
        },
        "id": "acXOr1jK9Xqg",
        "outputId": "7b038109-9f7d-46dc-a73d-7aad3a467403"
      },
      "execution_count": 501,
      "outputs": [
        {
          "output_type": "display_data",
          "data": {
            "text/plain": [
              "<Figure size 432x288 with 1 Axes>"
            ],
            "image/png": "[encoded data removed]"
          },
          "metadata": {
            "needs_background": "light"
          }
        }
      ]
    },
    {
      "cell_type": "code",
      "execution_count": 502,
      "metadata": {
        "id": "Hi8mxSF0PASD"
      },
      "outputs": [],
      "source": [
        "catagorical_labels = np.array(to_categorical(int_labels, num_classes = (len(unique_labels))))\n",
        "sentences=np.array(sentences)"
      ]
    },
    {
      "cell_type": "code",
      "execution_count": 503,
      "metadata": {
        "id": "_-oCfP1p1JYE"
      },
      "outputs": [],
      "source": [
        "def split_data(input, train_split=0.8, val_split=0.1):\n",
        "  length = len(input)\n",
        "  train = input[:int(length*train_split)]\n",
        "  val = input[int(length*train_split):int(length*val_split + length*train_split)]\n",
        "  test = input[int(length*val_split + length*train_split):]\n",
        "  return train, val, test\n"
      ]
    },
    {
      "cell_type": "code",
      "execution_count": 504,
      "metadata": {
        "id": "k_eoKNfoOkHm",
        "colab": {
          "base_uri": "https://localhost:8080/"
        },
        "outputId": "1875baf8-d1f2-4afb-a848-abfca02e4dd3"
      },
      "outputs": [
        {
          "output_type": "execute_result",
          "data": {
            "text/plain": [
              "16000"
            ]
          },
          "metadata": {},
          "execution_count": 504
        }
      ],
      "source": [
        "len(sentences)"
      ]
    },
    {
      "cell_type": "code",
      "execution_count": 505,
      "metadata": {
        "id": "2Ejwmg8bOYQT"
      },
      "outputs": [],
      "source": [
        "x_train, x_val, x_test = split_data(sentences, train_split=0.9, val_split=0.05)\n",
        "y_train, y_val, y_test = split_data(catagorical_labels, train_split=0.9, val_split=0.05)"
      ]
    },
    {
      "cell_type": "code",
      "execution_count": 588,
      "metadata": {
        "id": "O96a1eEjz1KM"
      },
      "outputs": [],
      "source": [
        "def get_sequence(input):\n",
        "  sequences = tokenizer.texts_to_sequences(input)\n",
        "  return pad_sequences(sequences, padding='post', maxlen=training_padded.shape[-1])"
      ]
    },
    {
      "cell_type": "code",
      "execution_count": 507,
      "metadata": {
        "id": "XdYCW_9zTTf2"
      },
      "outputs": [],
      "source": [
        "tokenizer = Tokenizer(num_words=500, oov_token = \"<00V>\")\n",
        "tokenizer.fit_on_texts(x_train)\n",
        "word_index = tokenizer.word_index\n",
        "\n",
        "training_sequences = tokenizer.texts_to_sequences(x_train)\n",
        "training_padded = pad_sequences(training_sequences, padding='post', truncating='post')\n",
        "val_padded = get_sequence(x_val)\n",
        "test_padded = get_sequence(x_test)"
      ]
    },
    {
      "cell_type": "code",
      "execution_count": 508,
      "metadata": {
        "id": "wUDBDY-hTeKY",
        "colab": {
          "base_uri": "https://localhost:8080/"
        },
        "outputId": "e91608c0-5a8e-469e-ccfd-5154e6c2490a"
      },
      "outputs": [
        {
          "output_type": "stream",
          "name": "stdout",
          "text": [
            "(14400, 66)\n",
            "(800, 66)\n",
            "(800, 66)\n"
          ]
        }
      ],
      "source": [
        "print(training_padded.shape)\n",
        "print(val_padded.shape)\n",
        "print(test_padded.shape)"
      ]
    },
    {
      "cell_type": "code",
      "execution_count": 509,
      "metadata": {
        "id": "oY0gJvULOIRZ",
        "colab": {
          "base_uri": "https://localhost:8080/"
        },
        "outputId": "94a6b388-7cb5-4840-bee0-0818164c8af7"
      },
      "outputs": [
        {
          "output_type": "stream",
          "name": "stdout",
          "text": [
            "[  2 134   3   1   0   0   0   0   0   0   0   0   0   0   0   0   0   0\n",
            "   0   0   0   0   0   0   0   0   0   0   0   0   0   0   0   0   0   0\n",
            "   0   0   0   0   0   0   0   0   0   0   0   0   0   0   0   0   0   0\n",
            "   0   0   0   0   0   0   0   0   0   0   0   0]\n"
          ]
        }
      ],
      "source": [
        "print(training_padded[0])"
      ]
    },
    {
      "cell_type": "code",
      "execution_count": 510,
      "metadata": {
        "id": "P4RddLnJ_KAa",
        "colab": {
          "base_uri": "https://localhost:8080/"
        },
        "outputId": "f42f97d8-f8eb-4244-e86c-57233c3e128d"
      },
      "outputs": [
        {
          "output_type": "execute_result",
          "data": {
            "text/plain": [
              "(14400, 6)"
            ]
          },
          "metadata": {},
          "execution_count": 510
        }
      ],
      "source": [
        "y_train.shape"
      ]
    },
    {
      "cell_type": "code",
      "execution_count": 511,
      "metadata": {
        "id": "qv0dtqNKNc4Z",
        "colab": {
          "base_uri": "https://localhost:8080/"
        },
        "outputId": "7b8a6145-5bfd-44aa-f5ef-70314fccb1b3"
      },
      "outputs": [
        {
          "output_type": "stream",
          "name": "stdout",
          "text": [
            "num of vocab words in training are:  14422\n"
          ]
        }
      ],
      "source": [
        "print(\"num of vocab words in training are: \", len(word_index))"
      ]
    },
    {
      "cell_type": "code",
      "execution_count": 512,
      "metadata": {
        "id": "Q9ugHqNLNujZ"
      },
      "outputs": [],
      "source": [
        "train_ds = tf.data.Dataset.from_tensor_slices((training_padded, y_train))\n",
        "val_ds = tf.data.Dataset.from_tensor_slices((val_padded, y_val))\n",
        "test_ds = tf.data.Dataset.from_tensor_slices((test_padded, y_test))"
      ]
    },
    {
      "cell_type": "code",
      "execution_count": 513,
      "metadata": {
        "id": "g0vZylxYNuCX"
      },
      "outputs": [],
      "source": [
        "AUTOTUNE = tf.data.AUTOTUNE\n",
        "\n",
        "train_ds = train_ds.shuffle(BUFFER_SIZE).batch(BATCH_SIZE).prefetch(tf.data.AUTOTUNE)\n",
        "val_ds = test_ds.batch(BATCH_SIZE).prefetch(tf.data.AUTOTUNE)\n",
        "test_ds = test_ds.batch(BATCH_SIZE).prefetch(tf.data.AUTOTUNE)"
      ]
    },
    {
      "cell_type": "code",
      "source": [
        "def build_model(vocab_size, embed_dim, max_length):\n",
        "  model = tf.keras.Sequential([\n",
        "    tf.keras.layers.Embedding(vocab_size, embed_dim, input_length=max_length),\n",
        "    tf.keras.layers.Dropout(0.25),\n",
        "    tf.keras.layers.Conv1D(128, 5, padding='valid', activation='relu', strides=1),\n",
        "    tf.keras.layers.MaxPooling1D(4),\n",
        "    tf.keras.layers.Bidirectional(tf.keras.layers.LSTM(72)),\n",
        "    tf.keras.layers.Flatten(),\n",
        "    tf.keras.layers.Dense(32, activation='relu'),\n",
        "    tf.keras.layers.Dense(6, activation='linear')\n",
        "  ])\n",
        "\n",
        "  return model"
      ],
      "metadata": {
        "id": "k6mrZFyUrAiC"
      },
      "execution_count": 529,
      "outputs": []
    },
    {
      "cell_type": "code",
      "source": [
        "model = build_model(len(word_index), 16, training_padded.shape[-1])"
      ],
      "metadata": {
        "id": "wMmWnCoSrRCz"
      },
      "execution_count": 530,
      "outputs": []
    },
    {
      "cell_type": "code",
      "execution_count": 531,
      "metadata": {
        "id": "V6aQ_25oHXzk"
      },
      "outputs": [],
      "source": [
        "model.compile(optimizer='adam',\n",
        "              loss=tf.keras.losses.CategoricalCrossentropy(from_logits=True),\n",
        "              metrics=['accuracy'])"
      ]
    },
    {
      "cell_type": "code",
      "execution_count": 532,
      "metadata": {
        "id": "uWuCL9eTNRrh",
        "colab": {
          "base_uri": "https://localhost:8080/"
        },
        "outputId": "71975a62-f272-42d6-f4ca-b1b5ffe3ddd4"
      },
      "outputs": [
        {
          "output_type": "stream",
          "name": "stdout",
          "text": [
            "Model: \"sequential_17\"\n",
            "_________________________________________________________________\n",
            " Layer (type)                Output Shape              Param #   \n",
            "=================================================================\n",
            " embedding_17 (Embedding)    (None, 66, 16)            230752    \n",
            "                                                                 \n",
            " dropout_17 (Dropout)        (None, 66, 16)            0         \n",
            "                                                                 \n",
            " conv1d_20 (Conv1D)          (None, 62, 128)           10368     \n",
            "                                                                 \n",
            " max_pooling1d_20 (MaxPoolin  (None, 15, 128)          0         \n",
            " g1D)                                                            \n",
            "                                                                 \n",
            " bidirectional_17 (Bidirecti  (None, 144)              115776    \n",
            " onal)                                                           \n",
            "                                                                 \n",
            " flatten_17 (Flatten)        (None, 144)               0         \n",
            "                                                                 \n",
            " dense_34 (Dense)            (None, 32)                4640      \n",
            "                                                                 \n",
            " dense_35 (Dense)            (None, 6)                 198       \n",
            "                                                                 \n",
            "=================================================================\n",
            "Total params: 361,734\n",
            "Trainable params: 361,734\n",
            "Non-trainable params: 0\n",
            "_________________________________________________________________\n"
          ]
        }
      ],
      "source": [
        "model.summary()"
      ]
    },
    {
      "cell_type": "code",
      "execution_count": 533,
      "metadata": {
        "id": "vKbl8jrgOWvU"
      },
      "outputs": [],
      "source": [
        "callbacks = [\n",
        "    tf.keras.callbacks.ReduceLROnPlateau(monitor='loss', patience=2, verbose=1),\n",
        "    tf.keras.callbacks.EarlyStopping(monitor='loss', patience=5, verbose=1),\n",
        "]"
      ]
    },
    {
      "cell_type": "code",
      "execution_count": 534,
      "metadata": {
        "id": "so7BFV0yNSsK",
        "colab": {
          "base_uri": "https://localhost:8080/"
        },
        "outputId": "89ae2614-6f7d-4e48-8c9b-352243a96421"
      },
      "outputs": [
        {
          "output_type": "stream",
          "name": "stdout",
          "text": [
            "Epoch 1/6\n",
            "225/225 [==============================] - 12s 41ms/step - loss: 1.5942 - accuracy: 0.3346 - val_loss: 1.5866 - val_accuracy: 0.3787 - lr: 0.0010\n",
            "Epoch 2/6\n",
            "225/225 [==============================] - 8s 35ms/step - loss: 1.4166 - accuracy: 0.4585 - val_loss: 1.2900 - val_accuracy: 0.5088 - lr: 0.0010\n",
            "Epoch 3/6\n",
            "225/225 [==============================] - 8s 35ms/step - loss: 1.2081 - accuracy: 0.5377 - val_loss: 1.1435 - val_accuracy: 0.5525 - lr: 0.0010\n",
            "Epoch 4/6\n",
            "225/225 [==============================] - 8s 34ms/step - loss: 1.1240 - accuracy: 0.5703 - val_loss: 1.1087 - val_accuracy: 0.5600 - lr: 0.0010\n",
            "Epoch 5/6\n",
            "225/225 [==============================] - 8s 35ms/step - loss: 1.0908 - accuracy: 0.5760 - val_loss: 1.0972 - val_accuracy: 0.5788 - lr: 0.0010\n",
            "Epoch 6/6\n",
            "225/225 [==============================] - 8s 33ms/step - loss: 1.0602 - accuracy: 0.5883 - val_loss: 1.0757 - val_accuracy: 0.5587 - lr: 0.0010\n"
          ]
        }
      ],
      "source": [
        "epochs=6\n",
        "history = model.fit(\n",
        "  train_ds,\n",
        "  epochs=epochs,\n",
        "  validation_data=val_ds,\n",
        "  callbacks=callbacks\n",
        ")"
      ]
    },
    {
      "cell_type": "code",
      "source": [
        "def get_model_preformance(model_history):\n",
        "  history = model_history\n",
        "  plt.plot(history.history['accuracy'])\n",
        "  plt.plot(history.history['val_accuracy'])\n",
        "  plt.title('model accuracy')\n",
        "  plt.ylabel('accuracy')\n",
        "  plt.xlabel('epoch')\n",
        "  plt.legend(['train', 'val'], loc='upper left')\n",
        "  plt.show()\n",
        "\n",
        "  plt.plot(history.history['loss'])\n",
        "  plt.plot(history.history['val_loss'])\n",
        "  plt.title('model loss')\n",
        "  plt.ylabel('loss')\n",
        "  plt.xlabel('epoch')\n",
        "  plt.legend(['train', 'val'], loc='upper left')\n",
        "plt.show()\n"
      ],
      "metadata": {
        "id": "skY_0EqdrsGs"
      },
      "execution_count": 535,
      "outputs": []
    },
    {
      "cell_type": "code",
      "source": [
        "get_model_preformance(history)"
      ],
      "metadata": {
        "colab": {
          "base_uri": "https://localhost:8080/",
          "height": 573
        },
        "id": "UuuLOgsUr7Av",
        "outputId": "ba52766c-c780-4b8f-bfa5-1ec60d2e9027"
      },
      "execution_count": 536,
      "outputs": [
        {
          "output_type": "display_data",
          "data": {
            "text/plain": [
              "<Figure size 432x288 with 1 Axes>"
            ],
            "image/png": "[encoded data removed]"
          },
          "metadata": {
            "needs_background": "light"
          }
        },
        {
          "output_type": "display_data",
          "data": {
            "text/plain": [
              "<Figure size 432x288 with 1 Axes>"
            ],
            "image/png": "[encoded data removed]"
          },
          "metadata": {
            "needs_background": "light"
          }
        }
      ]
    },
    {
      "cell_type": "code",
      "execution_count": 537,
      "metadata": {
        "id": "pSMtRgYLk-jS",
        "colab": {
          "base_uri": "https://localhost:8080/"
        },
        "outputId": "fdf70285-5677-40ba-f1a0-e966c0d25d3a"
      },
      "outputs": [
        {
          "output_type": "stream",
          "name": "stdout",
          "text": [
            "25/25 [==============================] - 1s 8ms/step - loss: 1.0757 - accuracy: 0.5587\n"
          ]
        },
        {
          "output_type": "execute_result",
          "data": {
            "text/plain": [
              "[1.0756925344467163, 0.5587499737739563]"
            ]
          },
          "metadata": {},
          "execution_count": 537
        }
      ],
      "source": [
        "model.evaluate(test_padded, y_test)"
      ]
    },
    {
      "cell_type": "code",
      "source": [
        "print(test_padded[0].shape)"
      ],
      "metadata": {
        "colab": {
          "base_uri": "https://localhost:8080/"
        },
        "id": "H1jzub_A5jaJ",
        "outputId": "e34a02e1-df9c-400d-9cb9-976ac0119d1d"
      },
      "execution_count": 538,
      "outputs": [
        {
          "output_type": "stream",
          "name": "stdout",
          "text": [
            "(66,)\n"
          ]
        }
      ]
    },
    {
      "cell_type": "code",
      "source": [
        "num_to_labels = {\n",
        "    0:'anger',\n",
        "    1:'fear',\n",
        "    2:'joy',\n",
        "    3:'love',\n",
        "    4:'sadness',\n",
        "    5:'surprise'\n",
        "}"
      ],
      "metadata": {
        "id": "g6criIwXZq0T"
      },
      "execution_count": 539,
      "outputs": []
    },
    {
      "cell_type": "code",
      "source": [
        "def get_prediction(text, from_num):\n",
        "    if from_num == False:\n",
        "      text = get_sequence(text)\n",
        "    predict = model.predict(text)\n",
        "    results = np.argmax(predict, axis=1)\n",
        "    return num_to_labels[results[0]]"
      ],
      "metadata": {
        "id": "k9CzZSUgvKgn"
      },
      "execution_count": 624,
      "outputs": []
    },
    {
      "cell_type": "code",
      "source": [
        "num_of_tests = 5\n",
        "correct = 0\n",
        "for i in range(num_of_tests):\n",
        "  index = random.randint(0,test_padded.shape[-1] - 1)\n",
        "  print('sentence is: ', x_test[index])\n",
        "  print(x_test[index])\n",
        "  pred = get_prediction(test_padded[index].reshape(1,66), True)\n",
        "  print('model prediction is: ', pred) \n",
        "  actual = num_to_labels[np.argmax(y_test[index])]\n",
        "  print('actual emotion was: ', actual)\n",
        "  if actual == pred:\n",
        "    correct += 1\n",
        "print('number of correct predictions: ', correct, '/', num_of_tests)"
      ],
      "metadata": {
        "colab": {
          "base_uri": "https://localhost:8080/"
        },
        "id": "ZJYXt47VsPmi",
        "outputId": "27a72633-2702-4c33-9d17-a88945165aa6"
      },
      "execution_count": 642,
      "outputs": [
        {
          "output_type": "stream",
          "name": "stdout",
          "text": [
            "sentence is:  i alsways feel so carefree\n",
            "i alsways feel so carefree\n",
            "model prediction is:  sadness\n",
            "actual emotion was:  joy\n",
            "sentence is:  i feel liked i talked about mass effect to death in these posts but i m going to have to again i m afraid\n",
            "i feel liked i talked about mass effect to death in these posts but i m going to have to again i m afraid\n",
            "model prediction is:  love\n",
            "actual emotion was:  love\n",
            "sentence is:  i feel frustrated about especially last night is not in doing all those things i actually enjoy them but in finding the time to do them\n",
            "i feel frustrated about especially last night is not in doing all those things i actually enjoy them but in finding the time to do them\n",
            "model prediction is:  anger\n",
            "actual emotion was:  anger\n",
            "sentence is:  i miss feeling like i hated you\n",
            "i miss feeling like i hated you\n",
            "model prediction is:  sadness\n",
            "actual emotion was:  anger\n",
            "sentence is:  i feel a little sad about it but christmas is hardly on\n",
            "i feel a little sad about it but christmas is hardly on\n",
            "model prediction is:  sadness\n",
            "actual emotion was:  sadness\n",
            "number of correct predictions:  3 / 5\n"
          ]
        }
      ]
    },
    {
      "cell_type": "code",
      "source": [
        "user_input = input('please enter a sentence: ')\n",
        "print('model prediction is: ', get_prediction([user_input], False))\n"
      ],
      "metadata": {
        "colab": {
          "base_uri": "https://localhost:8080/"
        },
        "id": "KNNjnBQxxgZP",
        "outputId": "0260eb9f-2051-492d-d503-fc8f3e247164"
      },
      "execution_count": 644,
      "outputs": [
        {
          "output_type": "stream",
          "name": "stdout",
          "text": [
            "please enter a sentence: I was working with my program and the computer came to life shiver me timbers I was so scared\n",
            "model prediction is:  fear\n"
          ]
        }
      ]
    },
    {
      "cell_type": "code",
      "source": [],
      "metadata": {
        "id": "7LS8HGYp0DHD"
      },
      "execution_count": 438,
      "outputs": []
    }
  ],
  "metadata": {
    "colab": {
      "collapsed_sections": [],
      "provenance": [],
      "mount_file_id": "1HZm-hDnZsp87lB58-IekhBFRIjPouvVE",
      "authorship_tag": "ABX9TyM1z/Xsl3jgF9OU1rrsaWal",
      "include_colab_link": true
    },
    "kernelspec": {
      "display_name": "Python 3",
      "name": "python3"
    },
    "language_info": {
      "name": "python"
    }
  },
  "nbformat": 4,
  "nbformat_minor": 0
}